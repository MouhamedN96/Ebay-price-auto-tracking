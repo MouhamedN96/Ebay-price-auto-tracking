{
 "cells": [
  {
   "cell_type": "code",
   "execution_count": 1,
   "id": "89247f98",
   "metadata": {},
   "outputs": [],
   "source": [
    "from bs4 import BeautifulSoup\n",
    "import requests \n",
    "import numpy as np\n",
    "import csv\n",
    "from datetime import datetime"
   ]
  },
  {
   "cell_type": "code",
   "execution_count": 2,
   "id": "1a6e062a",
   "metadata": {},
   "outputs": [],
   "source": [
    "LINK = \"https://www.ebay.co.uk/sch/i.html?_from=R40&_trksid=p2380057.m570.l1313&_nkw=m1+macbook+air&_sacat=0\""
   ]
  },
  {
   "cell_type": "code",
   "execution_count": 3,
   "id": "170323b3",
   "metadata": {},
   "outputs": [],
   "source": [
    "def get_prices_by_link(link):\n",
    "    \n",
    "    # get source\n",
    "    r = requests.get(link)\n",
    "    # parse source\n",
    "    page_parse = BeautifulSoup(r.text, 'html.parser')\n",
    "    # find all list items from search results\n",
    "    search_results = page_parse.find(\"ul\",{\"class\":\"srp-results\"}).find_all(\"li\",{\"class\":\"s-item\"})\n",
    "\n",
    "    item_prices = []\n",
    "\n",
    "    for result in search_results:\n",
    "        price_as_text = result.find(\"span\",{\"class\":\"s-item__price\"}).text\n",
    "        if \"to\" in price_as_text:\n",
    "            continue\n",
    "        price = float(price_as_text[1:].replace(\",\",\"\"))\n",
    "        item_prices.append(price)\n",
    "    return item_prices"
   ]
  },
  {
   "cell_type": "code",
   "execution_count": 4,
   "id": "0c4b8554",
   "metadata": {},
   "outputs": [
    {
     "name": "stdout",
     "output_type": "stream",
     "text": [
      "448.29422535211273\n"
     ]
    }
   ],
   "source": [
    "def remove_outliers(prices, m=2):\n",
    "    data = np.array(prices)\n",
    "    return data[abs(data - np.mean(data)) < m * np.std(data)]\n",
    "\n",
    "def get_average(prices):\n",
    "    return np.mean(prices)\n",
    "\n",
    "def save_to_file(prices):\n",
    "    fields=[datetime.today().strftime(\"%B-%D-%Y\"),np.around(get_average(prices),2)]\n",
    "    with open('prices.csv', 'a', newline='') as f:\n",
    "        writer = csv.writer(f)\n",
    "        writer.writerow(fields)\n",
    "\n",
    "if __name__ == \"__main__\":\n",
    "    prices = get_prices_by_link(LINK)\n",
    "    prices_without_outliers = remove_outliers(prices)\n",
    "    print(get_average(prices_without_outliers))\n",
    "    save_to_file(prices)"
   ]
  },
  {
   "cell_type": "code",
   "execution_count": null,
   "id": "30c88661",
   "metadata": {},
   "outputs": [],
   "source": []
  }
 ],
 "metadata": {
  "kernelspec": {
   "display_name": "Python 3 (ipykernel)",
   "language": "python",
   "name": "python3"
  },
  "language_info": {
   "codemirror_mode": {
    "name": "ipython",
    "version": 3
   },
   "file_extension": ".py",
   "mimetype": "text/x-python",
   "name": "python",
   "nbconvert_exporter": "python",
   "pygments_lexer": "ipython3",
   "version": "3.11.5"
  }
 },
 "nbformat": 4,
 "nbformat_minor": 5
}
